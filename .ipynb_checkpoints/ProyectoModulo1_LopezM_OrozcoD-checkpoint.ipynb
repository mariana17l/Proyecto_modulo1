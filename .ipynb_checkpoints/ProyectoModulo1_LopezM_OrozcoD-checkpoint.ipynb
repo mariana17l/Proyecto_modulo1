{
 "cells": [
  {
   "cell_type": "markdown",
   "metadata": {},
   "source": [
    "# Proyecto Módulo 2\n",
    "\n",
    "\n",
    "## Nombre: Mariana López , Diego Orozco\n"
   ]
  },
  {
   "cell_type": "markdown",
   "metadata": {},
   "source": [
    "### 1.1 SIMULACIÓN DE EMPRESA COMERCIALIZADORA DE GRANOS \n",
    "Este trabajo es una simulación de los procesos que se llevan a cabo en una empresa agrícola con el fin de poder hacer algunas predicciones o recomendaciones a la empresa en cuanto a la producción de esta, así como a la optimización de sus recursos. \n",
    "\n",
    "\n",
    "### 1.2 Objetivos.\n",
    "\n",
    "> #### 1.1 Objetivo general.\n",
    "\n",
    "Simular la producción anual de una empresa agrícola, así como las ganancias que esta pudiera adquirir. \n",
    "\n",
    "> #### 1.2 Objetivos específicos\n",
    "\n",
    "-   Conocer la producción promedio de la empresa según la época del año \n",
    "-\tIdentificar el proceso que sigue el producto desde su siembra hasta su venta\n",
    "-\tDeterminar un posible precio del producto considerando el factor del tipo de cambio     \n",
    "\n",
    "\n",
    "### 1.3 Definición del problema.\n",
    "> La empresa agrícola, Multiservicios Agrícolas De Comundú, S.A. de C.V. se dedica a la comercialización de granos a nivel nacional e internacional.  Se simulara la venta anual de la empresa agrícola, para lo cual  se separara en 2 procesos:  cosecha y venta.\n",
    "\n",
    "**Cosecha**: El proceso en el cual se recogen los productos de la tierra, esta empresa trabaja con maíz, garbanzo, trigo, sorgo y frijol . En este se incluyen los tiempos en que se tarda en recogerlos de la tierra y trasladarlos a la bodega, así como el tiempo que se tiene que quedar en la bodega para los procesos correspondientes, como lo es el pesaje y en algunos casos, el tratado  y separado por medio de maquinaria de los granos. Y al final el empaquetado del producto. También se incluirán las personas que se necesitan para que este proceso se lleve a cabo. \n",
    "\n",
    "**Venta**: El proceso en el cual los paquetes son trasladados a su destino final, así como los tramites que se tienen que realizar y el tiempo de espera en que esto suceda. En algunos casos como lo es del garbanzo, que se exporta a otros países, este proceso es un poco mas tardado e incluye tramites extras. En este proceso se tomara en cuenta el precio del producto, en moneda nacional y en  moneda extranjera\n"
   ]
  },
  {
   "cell_type": "markdown",
   "metadata": {},
   "source": []
  }
 ],
 "metadata": {
  "kernelspec": {
   "display_name": "Python 3",
   "language": "python",
   "name": "python3"
  },
  "language_info": {
   "codemirror_mode": {
    "name": "ipython",
    "version": 3
   },
   "file_extension": ".py",
   "mimetype": "text/x-python",
   "name": "python",
   "nbconvert_exporter": "python",
   "pygments_lexer": "ipython3",
   "version": "3.6.5"
  }
 },
 "nbformat": 4,
 "nbformat_minor": 2
}
