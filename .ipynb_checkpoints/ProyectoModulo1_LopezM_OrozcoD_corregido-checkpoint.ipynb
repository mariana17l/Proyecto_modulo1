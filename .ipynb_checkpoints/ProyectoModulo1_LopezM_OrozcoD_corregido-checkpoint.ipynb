{
 "cells": [
  {
   "cell_type": "markdown",
   "metadata": {},
   "source": [
    "# Proyecto Módulo 2 _ corregido \n",
    "\n",
    "\n",
    "## Nombre: Mariana López , Diego Orozco\n"
   ]
  },
  {
   "cell_type": "markdown",
   "metadata": {},
   "source": [
    "### 1.1 SIMULACIÓN DE EMPRESA COMERCIALIZADORA DE GRANOS \n",
    "Este trabajo es una simulación de los procesos que se llevan a cabo en una empresa agrícola con el fin de poder hacer algunas predicciones o recomendaciones a la empresa en cuanto a la producción de esta, así como a la optimización de sus recursos. \n",
    "\n",
    "\n",
    "### 1.2 Objetivos.\n",
    "\n",
    "> #### 1.1 Objetivo general.\n",
    "\n",
    "Simular la ganancia anual de la empresa agricola por las ventas del garbanzo \n",
    "\n",
    "> #### 1.2 Objetivos específicos\n",
    "\n",
    "-   Conocer la producción promedio de la empresa según la época del año \n",
    "-\tDeterminar un posible precio del producto considerando el precio historico\n",
    "-   Estimar un posible valor de la prima dolar-peso\n",
    "\n",
    "\n",
    "### 1.3 Definición del problema.\n",
    "> La empresa agrícola, Multiservicios Agrícolas De Comundú, S.A. de C.V. se dedica a la comercialización de granos a nivel nacional e internacional.  Se simulara la venta anual del garbanzo para poder sacar un estimado de las ganancias netas. \n",
    "\n",
    "\n",
    "### 1.4 Nodos y variables que se decidieron simular y porqué\n",
    "**siembra**\n",
    "\\begin{itemize} \n",
    "   \\item Tiempo medio que se tarda en que el garbanzo este listo para la cosecha \n",
    "   \\item Costo promedio del proceso de siembra \n",
    "\\end{itemize}\n",
    "**Cosecha**: \n",
    "\\begin{itemize}\n",
    "    \\item Tiempo medio que se tarda en trasladar el producto del campo a la bodega\n",
    "    \\item Procesamiento correspondiente del garbanzo en las instalaciones de la empresa.\n",
    "    \\item Costo promedio del traslado y el procesamiento del producto\n",
    "\\end{itemize}\n",
    "**Venta**: \n",
    "\\begin{itemize}\n",
    "    \\item Estimar el precio del garbanzo de acuerdo al mercado\n",
    "    \\item Estimar mediante simulacion montecarlo, por si es necesario, una prima de la opcion dolar-peso, por si el tipo de cambio tiene mucha volatilidad y es conveniente recurir a opciones. \n",
    "\\end{itemize}\n",
    " **Ganancia Total**\n",
    "\\begin{itemize}\n",
    "    \\item Estimar la ganancia final sumando todos los costos y restandoselos al pago que se tuvo por el envio del producto. \n",
    "\\end{itemize}\n",
    "    \n",
    "### 1.5 Definición de hipótesis y supuestos.\n",
    "\n",
    "Trabajaremos bajo los supuestos de que los tiempos medios de siembra, cosecha y procesamiento, asi como los costos siguen una distribucion triangular y el valor minimo y el maximo son dados por la empresa, esto se debe a la informacion historica y experiencias que se tiene. Para estimar el precio del garbanzo, se trabajara bajo la hipotesis que el precio historico no esta correlacionado con el tipo de cambio y este se mueve de manera independiente. \n",
    "    "
   ]
  },
  {
   "cell_type": "markdown",
   "metadata": {},
   "source": []
  }
 ],
 "metadata": {
  "kernelspec": {
   "display_name": "Python 3",
   "language": "python",
   "name": "python3"
  },
  "language_info": {
   "codemirror_mode": {
    "name": "ipython",
    "version": 3
   },
   "file_extension": ".py",
   "mimetype": "text/x-python",
   "name": "python",
   "nbconvert_exporter": "python",
   "pygments_lexer": "ipython3",
   "version": "3.6.5"
  }
 },
 "nbformat": 4,
 "nbformat_minor": 2
}
